{
  "nbformat": 4,
  "nbformat_minor": 0,
  "metadata": {
    "colab": {
      "provenance": [],
      "authorship_tag": "ABX9TyOLfYN6/vHthrSMdf1Z8jWk",
      "include_colab_link": true
    },
    "kernelspec": {
      "name": "python3",
      "display_name": "Python 3"
    },
    "language_info": {
      "name": "python"
    }
  },
  "cells": [
    {
      "cell_type": "markdown",
      "metadata": {
        "id": "view-in-github",
        "colab_type": "text"
      },
      "source": [
        "<a href=\"https://colab.research.google.com/github/silverpen44/silverpen44.github.io/blob/main/sandwich.ipynb\" target=\"_parent\"><img src=\"https://colab.research.google.com/assets/colab-badge.svg\" alt=\"Open In Colab\"/></a>"
      ]
    },
    {
      "cell_type": "code",
      "execution_count": null,
      "metadata": {
        "id": "TV0t1eH31D2H"
      },
      "outputs": [],
      "source": [
        "<!DOCTYPE html>\n",
        "<html>\n",
        "    <head>\n",
        "        <meta charset=\"utf-8\">\n",
        "        <title>sandwich44</title>\n",
        "    </head>\n",
        "    <body>\n",
        "\n",
        "    <h1>sandwich44</h1>\n",
        "\n",
        "    <h2>basic info</h2>\n",
        "\n",
        "    <p>Sandwich includes bread, lettuce and everything.</p>\n",
        "\n",
        "    <h2>egg sandwich</h2>\n",
        "    <p>Egg sandwich includes egg.<br>\n",
        "    And it may contain cucumber, dragonwings, jam,<br>\n",
        "    clock, wall, etc. Make sure all ingredients <br>\n",
        "    are fresh for perfect sandwich.</p>\n",
        "\n",
        "    </body>\n",
        "</html>"
      ]
    }
  ]
}